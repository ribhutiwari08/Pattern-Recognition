import cv2
import numpy as np
import tensorflow as tf
from tensorflow import keras
from tensorflow.keras import layers
import matplotlib.pyplot as plt

# Load an image (Replace with your image path)
image = cv2.imread("ribhu.jpg")  
image = cv2.resize(image, (128, 128))  #
image = image / 255.0  # Normalize


mask = cv2.imread("mask.png", cv2.IMREAD_GRAYSCALE)  
mask = cv2.resize(mask, (128, 128))
mask = np.expand_dims(mask, axis=-1)  
mask = mask / 255.0  # Normalize to 0-1

# Convert to arrays
train_images = np.array([image], dtype=np.float32)
train_masks = np.array([mask], dtype=np.float32)

# Display Image and Mask
plt.figure(figsize=(10, 5))
plt.subplot(1, 2, 1)
plt.title("Input Image")
plt.imshow(image)

plt.subplot(1, 2, 2)
plt.title("Binary Mask")
plt.imshow(mask, cmap='gray')

plt.show()



def unet_model(input_size=(128, 128, 3)):
    inputs = layers.Input(input_size)

    # with the help of encoder path extract the important feature like CNN
    c1 = layers.Conv2D(16, (3, 3), activation='relu', padding='same')(inputs)
    c1 = layers.MaxPooling2D((2, 2))(c1)

    c2 = layers.Conv2D(32, (3, 3), activation='relu', padding='same')(c1)
    c2 = layers.MaxPooling2D((2, 2))(c2)

    # bottleneck play a bridge role between encoder and decorder
    c3 = layers.Conv2D(64, (3, 3), activation='relu', padding='same')(c2)

    # Decoder refine the image produced the segmented mask
    u4 = layers.UpSampling2D((2, 2))(c3)  #upscale to the large dimesnional
    c4 = layers.Conv2D(32, (3, 3), activation='relu', padding='same')(u4)

    u5 = layers.UpSampling2D((2, 2))(c4)   #one filter output for segmentation mask
    outputs = layers.Conv2D(1, (1, 1), activation='sigmoid')(u5)

    model = keras.Model(inputs, outputs)
    return model

# Build and compile the model
model = unet_model()
model.compile(optimizer='adam', loss='binary_crossentropy', metrics=['accuracy'])
model.summary()



# Train for a few epochs
model.fit(train_images, train_masks, epochs=10, batch_size=1)



# Predict the mask
predicted_mask = model.predict(np.expand_dims(train_images[0], axis=0))[0]

# Show results
plt.figure(figsize=(10, 5))

plt.subplot(1, 3, 1)
plt.title("Input Image")
plt.imshow(train_images[0])

plt.subplot(1, 3, 2)
plt.title("True Mask")
plt.imshow(train_masks[0], cmap='gray')

plt.subplot(1, 3, 3)
plt.title("Predicted Mask")
plt.imshow(predicted_mask, cmap='gray')

plt.show()




