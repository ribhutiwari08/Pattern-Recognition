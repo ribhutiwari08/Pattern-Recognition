import cv2
import numpy as np
import tensorflow as tf
import matplotlib.pyplot as plt

# Load DeepLabV3+ model (pretrained on PASCAL VOC dataset)
model = tf.keras.applications.DenseNet121(weights="imagenet", include_top=True)

# Load an image
image_path = "ribhu.jpg"  # Change this to your image
image = cv2.imread(image_path)
image = cv2.cvtColor(image, cv2.COLOR_BGR2RGB)

# Resize image for model input
image_resized = cv2.resize(image, (224, 224))
image_resized = np.expand_dims(image_resized, axis=0) / 255.0  # Normalize

# Perform prediction
preds = model.predict(image_resized)

# Convert prediction to a binary mask (Using GrabCut for refinement)
mask = np.zeros(image.shape[:2], np.uint8)
bg_model = np.zeros((1, 65), np.float64)
fg_model = np.zeros((1, 65), np.float64)
rect = (50, 50, image.shape[1] - 50, image.shape[0] - 50)  # Define a rectangle

cv2.grabCut(image, mask, rect, bg_model, fg_model, 5, cv2.GC_INIT_WITH_RECT)
mask2 = np.where((mask == 2) | (mask == 0), 0, 1).astype("uint8")

# Apply mask on the image
segmented = image * mask2[:, :, np.newaxis]

# Display the segmented image
plt.figure(figsize=(10, 10))
plt.imshow(segmented)
plt.axis("off")
plt.show()




