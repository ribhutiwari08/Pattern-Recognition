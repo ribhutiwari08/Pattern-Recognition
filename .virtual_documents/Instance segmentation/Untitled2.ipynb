import tensorflow as tf
import numpy as np
import cv2
import os
import matplotlib.pyplot as plt

# Function to load image and corresponding mask
def load_data(image_path, mask_path):
    img = cv2.imread(image_path)
    img = cv2.resize(img, (128, 128))  # Resize to 128x128
    img = img / 255.0  # Normalize
    
    mask = cv2.imread(mask_path, cv2.IMREAD_GRAYSCALE)
    mask = cv2.resize(mask, (128, 128))
    mask = mask / 255.0  # Normalize
    mask = np.expand_dims(mask, axis=-1)  # Add channel dimension
    
    return img, mask

# Load sample data
image, mask = load_data("ribhu.jpg", "mask.png")

# Display sample image and mask
plt.subplot(1, 2, 1)
plt.imshow(image)
plt.title("Image")

plt.subplot(1, 2, 2)
plt.imshow(mask, cmap="gray")
plt.title("Mask")

plt.show()




