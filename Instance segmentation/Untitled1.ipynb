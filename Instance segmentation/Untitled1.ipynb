{
 "cells": [
  {
   "cell_type": "code",
   "execution_count": null,
   "id": "8a0db2f5-f9a1-4094-be26-eba98e799b63",
   "metadata": {},
   "outputs": [
    {
     "name": "stdout",
     "output_type": "stream",
     "text": [
      "Downloading data from https://storage.googleapis.com/tensorflow/keras-applications/densenet/densenet121_weights_tf_dim_ordering_tf_kernels.h5\n",
      "\u001b[1m  917504/33188688\u001b[0m \u001b[37m━━━━━━━━━━━━━━━━━━━━\u001b[0m \u001b[1m48:55\u001b[0m 91us/step"
     ]
    }
   ],
   "source": [
    "import cv2\n",
    "import numpy as np\n",
    "import tensorflow as tf\n",
    "import matplotlib.pyplot as plt\n",
    "\n",
    "# Load DeepLabV3+ model (pretrained on PASCAL VOC dataset)\n",
    "model = tf.keras.applications.DenseNet121(weights=\"imagenet\", include_top=True)\n",
    "\n",
    "# Load an image\n",
    "image_path = \"ribhu.jpg\"  # Change this to your image\n",
    "image = cv2.imread(image_path)\n",
    "image = cv2.cvtColor(image, cv2.COLOR_BGR2RGB)\n",
    "\n",
    "# Resize image for model input\n",
    "image_resized = cv2.resize(image, (224, 224))\n",
    "image_resized = np.expand_dims(image_resized, axis=0) / 255.0  # Normalize\n",
    "\n",
    "# Perform prediction\n",
    "preds = model.predict(image_resized)\n",
    "\n",
    "# Convert prediction to a binary mask (Using GrabCut for refinement)\n",
    "mask = np.zeros(image.shape[:2], np.uint8)\n",
    "bg_model = np.zeros((1, 65), np.float64)\n",
    "fg_model = np.zeros((1, 65), np.float64)\n",
    "rect = (50, 50, image.shape[1] - 50, image.shape[0] - 50)  # Define a rectangle\n",
    "\n",
    "cv2.grabCut(image, mask, rect, bg_model, fg_model, 5, cv2.GC_INIT_WITH_RECT)\n",
    "mask2 = np.where((mask == 2) | (mask == 0), 0, 1).astype(\"uint8\")\n",
    "\n",
    "# Apply mask on the image\n",
    "segmented = image * mask2[:, :, np.newaxis]\n",
    "\n",
    "# Display the segmented image\n",
    "plt.figure(figsize=(10, 10))\n",
    "plt.imshow(segmented)\n",
    "plt.axis(\"off\")\n",
    "plt.show()\n"
   ]
  },
  {
   "cell_type": "code",
   "execution_count": null,
   "id": "10c9f76e-473c-4e61-b12d-7e3fbefa9b7c",
   "metadata": {},
   "outputs": [],
   "source": []
  }
 ],
 "metadata": {
  "kernelspec": {
   "display_name": "Python 3 (ipykernel)",
   "language": "python",
   "name": "python3"
  },
  "language_info": {
   "codemirror_mode": {
    "name": "ipython",
    "version": 3
   },
   "file_extension": ".py",
   "mimetype": "text/x-python",
   "name": "python",
   "nbconvert_exporter": "python",
   "pygments_lexer": "ipython3",
   "version": "3.12.7"
  }
 },
 "nbformat": 4,
 "nbformat_minor": 5
}
